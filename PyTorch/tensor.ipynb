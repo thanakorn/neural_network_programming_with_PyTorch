{
 "nbformat": 4,
 "nbformat_minor": 2,
 "metadata": {
  "language_info": {
   "name": "python",
   "codemirror_mode": {
    "name": "ipython",
    "version": 3
   },
   "version": "3.7.6-final"
  },
  "orig_nbformat": 2,
  "file_extension": ".py",
  "mimetype": "text/x-python",
  "name": "python",
  "npconvert_exporter": "python",
  "pygments_lexer": "ipython3",
  "version": 3,
  "kernelspec": {
   "name": "python37664bit2bcb0db5b0d04a86b640e4b86a7cd9a7",
   "display_name": "Python 3.7.6 64-bit"
  }
 },
 "cells": [
  {
   "cell_type": "code",
   "execution_count": null,
   "metadata": {},
   "outputs": [],
   "source": [
    "import torch\n",
    "import numpy as np"
   ]
  },
  {
   "cell_type": "code",
   "execution_count": null,
   "metadata": {},
   "outputs": [],
   "source": [
    "a = [[1, 2, 3],\n",
    "     [4, 5, 6],\n",
    "     [7, 8, 9]]\n",
    "b = [[1., 2., 3.],\n",
    "     [4., 5., 6.],\n",
    "     [7., 8., 9.]]"
   ]
  },
  {
   "cell_type": "code",
   "execution_count": null,
   "metadata": {},
   "outputs": [],
   "source": [
    "# Create tensors\n",
    "t = torch.tensor(a)\n",
    "u = torch.tensor(b)\n",
    "print(type(t))\n",
    "print(t.shape)\n",
    "print(type(u))\n",
    "print(u.shape)"
   ]
  },
  {
   "cell_type": "code",
   "execution_count": null,
   "metadata": {},
   "outputs": [],
   "source": [
    "# Torch attributes\n",
    "print(t.dtype)\n",
    "print(t.device)\n",
    "print(t.layout)\n",
    "print(u.dtype)\n",
    "print(u.device)\n",
    "print(u.layout)\n",
    "print(torch.device('cuda:0'))"
   ]
  },
  {
   "cell_type": "code",
   "execution_count": null,
   "metadata": {},
   "outputs": [],
   "source": [
    "# Create tensor without data\n",
    "print(torch.eye(2))\n",
    "print(torch.zeros(4,3))\n",
    "print(torch.ones(2,3))\n",
    "print(torch.rand(2,2))"
   ]
  },
  {
   "cell_type": "code",
   "execution_count": null,
   "metadata": {},
   "outputs": [],
   "source": [
    "data = np.array([1,2,3])\n",
    "\n",
    "t1 = torch.Tensor(data)     # Deep copy, static type\n",
    "t2 = torch.tensor(data)     # Deep copy, type similar to 'data'\n",
    "t3 = torch.as_tensor(data)  # Shared data, any array\n",
    "t4 = torch.from_numpy(data) # Shared data, only numpy array"
   ]
  },
  {
   "cell_type": "code",
   "execution_count": null,
   "metadata": {},
   "outputs": [],
   "source": [
    "print(t1.dtype)\n",
    "print(t2.dtype)\n",
    "print(t3.dtype)\n",
    "print(t4.dtype)\n",
    "print(torch.tensor(data, dtype=torch.float64))"
   ]
  },
  {
   "cell_type": "code",
   "execution_count": null,
   "metadata": {},
   "outputs": [],
   "source": [
    "data[0] = 5\n",
    "data[1] = -1"
   ]
  },
  {
   "cell_type": "code",
   "execution_count": null,
   "metadata": {},
   "outputs": [],
   "source": [
    "print(data)\n",
    "print(t1)\n",
    "print(t2)\n",
    "print(t3)\n",
    "print(t4)"
   ]
  },
  {
   "cell_type": "code",
   "execution_count": null,
   "metadata": {},
   "outputs": [],
   "source": [
    "t = torch.tensor([\n",
    "        [1,1,1,1],\n",
    "        [2,2,2,2],\n",
    "        [3,3,3,3]\n",
    "    ], dtype=torch.float32)"
   ]
  },
  {
   "cell_type": "code",
   "execution_count": null,
   "metadata": {},
   "outputs": [],
   "source": [
    "# Reshape\n",
    "print(t.shape)\n",
    "print(t.numel())\n",
    "print(t.reshape(1,12))\n",
    "print(t.reshape(-1))                              # auto calculating the length\n",
    "print(t.reshape(1,-1))                            # auto calculating the length\n",
    "print(t.reshape(4,3))\n",
    "print(t.reshape(2,2,3))\n",
    "print(t.reshape(1,12).squeeze())                  # remove all dimension of size 1\n",
    "print(t.reshape(1,12).squeeze().unsqueeze(dim=0)) # wrap the given dimension with an array\n",
    "print(t.reshape(1,12).squeeze().unsqueeze(dim=1)) # wrap the given dimension with an array"
   ]
  },
  {
   "cell_type": "code",
   "execution_count": null,
   "metadata": {},
   "outputs": [],
   "source": [
    "# Concatenation\n",
    "t1 = torch.tensor([[1,2],\n",
    "                   [3,4]])\n",
    "t2 = torch.tensor([[5,6],\n",
    "                   [7,8]])\n",
    "\n",
    "print(torch.cat((t1, t2), dim=0))\n",
    "print(torch.cat((t1, t2), dim=1))"
   ]
  },
  {
   "cell_type": "code",
   "execution_count": 90,
   "metadata": {},
   "outputs": [
    {
     "output_type": "stream",
     "name": "stdout",
     "text": "torch.Size([3, 4, 4])\ntorch.Size([3, 1, 4, 4])\ntensor([[[1, 1, 1, 1],\n         [1, 1, 1, 1],\n         [1, 1, 1, 1],\n         [1, 1, 1, 1]]])\ntensor([[1, 1, 1, 1],\n        [1, 1, 1, 1],\n        [1, 1, 1, 1],\n        [1, 1, 1, 1]])\ntensor([1, 1, 1, 1])\ntensor(1)\n"
    }
   ],
   "source": [
    "# Stack tensors\n",
    "t1 = torch.tensor([[1,1,1,1],\n",
    "                   [1,1,1,1],\n",
    "                   [1,1,1,1],\n",
    "                   [1,1,1,1]])\n",
    "t2 = torch.tensor([[2,2,2,2],\n",
    "                   [2,2,2,2],\n",
    "                   [2,2,2,2],\n",
    "                   [2,2,2,2]])\n",
    "t3 = torch.tensor([[3,3,3,3],\n",
    "                   [3,3,3,3],\n",
    "                   [3,3,3,3],\n",
    "                   [3,3,3,3]])\n",
    "t = torch.stack((t1, t2, t2))\n",
    "print(t.shape) # Need to add a color channel\n",
    "t = t.reshape(3, 1, 4, 4)\n",
    "print(t.shape)\n",
    "print(t[0])\n",
    "print(t[0][0])\n",
    "print(t[0][0][0])\n",
    "print(t[0][0][0][0])"
   ]
  },
  {
   "cell_type": "code",
   "execution_count": 98,
   "metadata": {},
   "outputs": [
    {
     "output_type": "stream",
     "name": "stdout",
     "text": "tensor([[1, 1, 1, 1, 1, 1, 1, 1, 1, 1, 1, 1, 1, 1, 1, 1],\n        [2, 2, 2, 2, 2, 2, 2, 2, 2, 2, 2, 2, 2, 2, 2, 2],\n        [2, 2, 2, 2, 2, 2, 2, 2, 2, 2, 2, 2, 2, 2, 2, 2]])\ntensor([[1, 1, 1, 1, 1, 1, 1, 1, 1, 1, 1, 1, 1, 1, 1, 1],\n        [2, 2, 2, 2, 2, 2, 2, 2, 2, 2, 2, 2, 2, 2, 2, 2],\n        [2, 2, 2, 2, 2, 2, 2, 2, 2, 2, 2, 2, 2, 2, 2, 2]])\ntorch.Size([3, 16])\n"
    }
   ],
   "source": [
    "# Flatten an image\n",
    "print(torch.flatten(t, start_dim=1))    # flatten start from dim 1\n",
    "print(t.reshape((t.shape[0],t.shape[2] * t.shape[3])))\n",
    "print(torch.flatten(t, start_dim=1).shape)"
   ]
  },
  {
   "cell_type": "code",
   "execution_count": null,
   "metadata": {},
   "outputs": [],
   "source": []
  }
 ]
}